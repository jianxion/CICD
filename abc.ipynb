{
 "cells": [
  {
   "cell_type": "code",
   "execution_count": null,
   "id": "61ba5e8e",
   "metadata": {},
   "outputs": [
    {
     "name": "stdout",
     "output_type": "stream",
     "text": [
      "3\n",
      "2.0\n"
     ]
    }
   ],
   "source": [
    "a = [2]  # Use a list to hold the value\n",
    "b = a    # b references the same list as a\n",
    "a[0] = 3  # Update the value in the list\n",
    "print(b[0])  # b reflects the updated value of a\n",
    "a = 2\n",
    "b = float(a)\n",
    "print(b)\n"
   ]
  }
 ],
 "metadata": {
  "kernelspec": {
   "display_name": "base",
   "language": "python",
   "name": "python3"
  },
  "language_info": {
   "codemirror_mode": {
    "name": "ipython",
    "version": 3
   },
   "file_extension": ".py",
   "mimetype": "text/x-python",
   "name": "python",
   "nbconvert_exporter": "python",
   "pygments_lexer": "ipython3",
   "version": "3.11.5"
  }
 },
 "nbformat": 4,
 "nbformat_minor": 5
}
